{
 "cells": [
  {
   "cell_type": "markdown",
   "metadata": {},
   "source": [
    "# MEAN"
   ]
  },
  {
   "cell_type": "markdown",
   "metadata": {},
   "source": [
    "### Mean or Average is bsically the center point of any data. Inorder to find mean we need to sum the total given number divided by the total count of the numbers.It also known as expected value."
   ]
  },
  {
   "cell_type": "markdown",
   "metadata": {},
   "source": [
    "Example: A=[3,6,9,12,15]\n",
    "\n",
    "Mean= $$ \\left( \\frac{\\sum_{i=0}^{n} Ai}{Count(A} \\right) $$\n",
    "In this case :\n",
    "(3+6+9+12+15)/5=45/5=9"
   ]
  },
  {
   "cell_type": "code",
   "execution_count": 1,
   "metadata": {},
   "outputs": [],
   "source": [
    "import pandas as pd\n",
    "import numpy as np"
   ]
  },
  {
   "cell_type": "code",
   "execution_count": 2,
   "metadata": {},
   "outputs": [
    {
     "data": {
      "text/html": [
       "<div>\n",
       "<style scoped>\n",
       "    .dataframe tbody tr th:only-of-type {\n",
       "        vertical-align: middle;\n",
       "    }\n",
       "\n",
       "    .dataframe tbody tr th {\n",
       "        vertical-align: top;\n",
       "    }\n",
       "\n",
       "    .dataframe thead th {\n",
       "        text-align: right;\n",
       "    }\n",
       "</style>\n",
       "<table border=\"1\" class=\"dataframe\">\n",
       "  <thead>\n",
       "    <tr style=\"text-align: right;\">\n",
       "      <th></th>\n",
       "      <th>Mthly_HH_Income</th>\n",
       "      <th>Mthly_HH_Expense</th>\n",
       "      <th>No_of_Fly_Members</th>\n",
       "      <th>Emi_or_Rent_Amt</th>\n",
       "      <th>Annual_HH_Income</th>\n",
       "      <th>No_of_Earning_Members</th>\n",
       "    </tr>\n",
       "  </thead>\n",
       "  <tbody>\n",
       "    <tr>\n",
       "      <th>count</th>\n",
       "      <td>50.000000</td>\n",
       "      <td>50.000000</td>\n",
       "      <td>50.000000</td>\n",
       "      <td>50.000000</td>\n",
       "      <td>5.000000e+01</td>\n",
       "      <td>50.000000</td>\n",
       "    </tr>\n",
       "    <tr>\n",
       "      <th>mean</th>\n",
       "      <td>41558.000000</td>\n",
       "      <td>18818.000000</td>\n",
       "      <td>4.060000</td>\n",
       "      <td>3060.000000</td>\n",
       "      <td>4.900190e+05</td>\n",
       "      <td>1.460000</td>\n",
       "    </tr>\n",
       "    <tr>\n",
       "      <th>std</th>\n",
       "      <td>26097.908979</td>\n",
       "      <td>12090.216824</td>\n",
       "      <td>1.517382</td>\n",
       "      <td>6241.434948</td>\n",
       "      <td>3.201358e+05</td>\n",
       "      <td>0.734291</td>\n",
       "    </tr>\n",
       "    <tr>\n",
       "      <th>min</th>\n",
       "      <td>5000.000000</td>\n",
       "      <td>2000.000000</td>\n",
       "      <td>1.000000</td>\n",
       "      <td>0.000000</td>\n",
       "      <td>6.420000e+04</td>\n",
       "      <td>1.000000</td>\n",
       "    </tr>\n",
       "    <tr>\n",
       "      <th>25%</th>\n",
       "      <td>23550.000000</td>\n",
       "      <td>10000.000000</td>\n",
       "      <td>3.000000</td>\n",
       "      <td>0.000000</td>\n",
       "      <td>2.587500e+05</td>\n",
       "      <td>1.000000</td>\n",
       "    </tr>\n",
       "    <tr>\n",
       "      <th>50%</th>\n",
       "      <td>35000.000000</td>\n",
       "      <td>15500.000000</td>\n",
       "      <td>4.000000</td>\n",
       "      <td>0.000000</td>\n",
       "      <td>4.474200e+05</td>\n",
       "      <td>1.000000</td>\n",
       "    </tr>\n",
       "    <tr>\n",
       "      <th>75%</th>\n",
       "      <td>50375.000000</td>\n",
       "      <td>25000.000000</td>\n",
       "      <td>5.000000</td>\n",
       "      <td>3500.000000</td>\n",
       "      <td>5.947200e+05</td>\n",
       "      <td>2.000000</td>\n",
       "    </tr>\n",
       "    <tr>\n",
       "      <th>max</th>\n",
       "      <td>100000.000000</td>\n",
       "      <td>50000.000000</td>\n",
       "      <td>7.000000</td>\n",
       "      <td>35000.000000</td>\n",
       "      <td>1.404000e+06</td>\n",
       "      <td>4.000000</td>\n",
       "    </tr>\n",
       "  </tbody>\n",
       "</table>\n",
       "</div>"
      ],
      "text/plain": [
       "       Mthly_HH_Income  Mthly_HH_Expense  No_of_Fly_Members  Emi_or_Rent_Amt  \\\n",
       "count        50.000000         50.000000          50.000000        50.000000   \n",
       "mean      41558.000000      18818.000000           4.060000      3060.000000   \n",
       "std       26097.908979      12090.216824           1.517382      6241.434948   \n",
       "min        5000.000000       2000.000000           1.000000         0.000000   \n",
       "25%       23550.000000      10000.000000           3.000000         0.000000   \n",
       "50%       35000.000000      15500.000000           4.000000         0.000000   \n",
       "75%       50375.000000      25000.000000           5.000000      3500.000000   \n",
       "max      100000.000000      50000.000000           7.000000     35000.000000   \n",
       "\n",
       "       Annual_HH_Income  No_of_Earning_Members  \n",
       "count      5.000000e+01              50.000000  \n",
       "mean       4.900190e+05               1.460000  \n",
       "std        3.201358e+05               0.734291  \n",
       "min        6.420000e+04               1.000000  \n",
       "25%        2.587500e+05               1.000000  \n",
       "50%        4.474200e+05               1.000000  \n",
       "75%        5.947200e+05               2.000000  \n",
       "max        1.404000e+06               4.000000  "
      ]
     },
     "execution_count": 2,
     "metadata": {},
     "output_type": "execute_result"
    }
   ],
   "source": [
    "data=pd.read_csv('data.csv',index_col=False)\n",
    "data.describe()"
   ]
  },
  {
   "cell_type": "markdown",
   "metadata": {},
   "source": [
    "Since there is non-numeric data i.e Highest_Qualified_Member  we need to drop it"
   ]
  },
  {
   "cell_type": "code",
   "execution_count": 3,
   "metadata": {},
   "outputs": [
    {
     "data": {
      "text/html": [
       "<div>\n",
       "<style scoped>\n",
       "    .dataframe tbody tr th:only-of-type {\n",
       "        vertical-align: middle;\n",
       "    }\n",
       "\n",
       "    .dataframe tbody tr th {\n",
       "        vertical-align: top;\n",
       "    }\n",
       "\n",
       "    .dataframe thead th {\n",
       "        text-align: right;\n",
       "    }\n",
       "</style>\n",
       "<table border=\"1\" class=\"dataframe\">\n",
       "  <thead>\n",
       "    <tr style=\"text-align: right;\">\n",
       "      <th></th>\n",
       "      <th>Mthly_HH_Income</th>\n",
       "      <th>Mthly_HH_Expense</th>\n",
       "      <th>No_of_Fly_Members</th>\n",
       "      <th>Emi_or_Rent_Amt</th>\n",
       "      <th>Annual_HH_Income</th>\n",
       "      <th>No_of_Earning_Members</th>\n",
       "    </tr>\n",
       "  </thead>\n",
       "  <tbody>\n",
       "    <tr>\n",
       "      <th>0</th>\n",
       "      <td>5000</td>\n",
       "      <td>8000</td>\n",
       "      <td>3</td>\n",
       "      <td>2000</td>\n",
       "      <td>64200</td>\n",
       "      <td>1</td>\n",
       "    </tr>\n",
       "    <tr>\n",
       "      <th>1</th>\n",
       "      <td>6000</td>\n",
       "      <td>7000</td>\n",
       "      <td>2</td>\n",
       "      <td>3000</td>\n",
       "      <td>79920</td>\n",
       "      <td>1</td>\n",
       "    </tr>\n",
       "    <tr>\n",
       "      <th>2</th>\n",
       "      <td>10000</td>\n",
       "      <td>4500</td>\n",
       "      <td>2</td>\n",
       "      <td>0</td>\n",
       "      <td>112800</td>\n",
       "      <td>1</td>\n",
       "    </tr>\n",
       "    <tr>\n",
       "      <th>3</th>\n",
       "      <td>10000</td>\n",
       "      <td>2000</td>\n",
       "      <td>1</td>\n",
       "      <td>0</td>\n",
       "      <td>97200</td>\n",
       "      <td>1</td>\n",
       "    </tr>\n",
       "    <tr>\n",
       "      <th>4</th>\n",
       "      <td>12500</td>\n",
       "      <td>12000</td>\n",
       "      <td>2</td>\n",
       "      <td>3000</td>\n",
       "      <td>147000</td>\n",
       "      <td>1</td>\n",
       "    </tr>\n",
       "  </tbody>\n",
       "</table>\n",
       "</div>"
      ],
      "text/plain": [
       "   Mthly_HH_Income  Mthly_HH_Expense  No_of_Fly_Members  Emi_or_Rent_Amt  \\\n",
       "0             5000              8000                  3             2000   \n",
       "1             6000              7000                  2             3000   \n",
       "2            10000              4500                  2                0   \n",
       "3            10000              2000                  1                0   \n",
       "4            12500             12000                  2             3000   \n",
       "\n",
       "   Annual_HH_Income  No_of_Earning_Members  \n",
       "0             64200                      1  \n",
       "1             79920                      1  \n",
       "2            112800                      1  \n",
       "3             97200                      1  \n",
       "4            147000                      1  "
      ]
     },
     "execution_count": 3,
     "metadata": {},
     "output_type": "execute_result"
    }
   ],
   "source": [
    "data.drop('Highest_Qualified_Member',inplace=True,axis=1)\n",
    "data.head()"
   ]
  },
  {
   "cell_type": "code",
   "execution_count": 4,
   "metadata": {},
   "outputs": [
    {
     "data": {
      "text/plain": [
       "Mthly_HH_Income           41558.00\n",
       "Mthly_HH_Expense          18818.00\n",
       "No_of_Fly_Members             4.06\n",
       "Emi_or_Rent_Amt            3060.00\n",
       "Annual_HH_Income         490019.04\n",
       "No_of_Earning_Members         1.46\n",
       "dtype: float64"
      ]
     },
     "execution_count": 4,
     "metadata": {},
     "output_type": "execute_result"
    }
   ],
   "source": [
    "data.mean() #using inbuilt function"
   ]
  },
  {
   "cell_type": "code",
   "execution_count": 5,
   "metadata": {},
   "outputs": [
    {
     "data": {
      "text/plain": [
       "Mthly_HH_Income           41558.00\n",
       "Mthly_HH_Expense          18818.00\n",
       "No_of_Fly_Members             4.06\n",
       "Emi_or_Rent_Amt            3060.00\n",
       "Annual_HH_Income         490019.04\n",
       "No_of_Earning_Members         1.46\n",
       "dtype: float64"
      ]
     },
     "execution_count": 5,
     "metadata": {},
     "output_type": "execute_result"
    }
   ],
   "source": [
    "mean1= data.sum()/data.count() #using formula\n",
    "mean1\n"
   ]
  },
  {
   "cell_type": "markdown",
   "metadata": {},
   "source": [
    "# MEDIAN"
   ]
  },
  {
   "cell_type": "markdown",
   "metadata": {},
   "source": [
    "Median is the point which divides the data point into the equal halves. The median is calculated by following steps:\n",
    "\n",
    "1.First sort the data in ascending order.\n",
    "\n",
    "2.If the number of observations are odd, median is given by the middle observation in the sorted form.\n",
    "\n",
    "3.If the number of observations are even, median is given by the mean of the two middle observation in the sorted form"
   ]
  },
  {
   "cell_type": "code",
   "execution_count": 6,
   "metadata": {},
   "outputs": [
    {
     "data": {
      "text/plain": [
       "Mthly_HH_Income           35000.0\n",
       "Mthly_HH_Expense          15500.0\n",
       "No_of_Fly_Members             4.0\n",
       "Emi_or_Rent_Amt               0.0\n",
       "Annual_HH_Income         447420.0\n",
       "No_of_Earning_Members         1.0\n",
       "dtype: float64"
      ]
     },
     "execution_count": 6,
     "metadata": {},
     "output_type": "execute_result"
    }
   ],
   "source": [
    "data.median() #using inbuilt function"
   ]
  },
  {
   "cell_type": "code",
   "execution_count": 7,
   "metadata": {},
   "outputs": [
    {
     "data": {
      "text/html": [
       "<div>\n",
       "<style scoped>\n",
       "    .dataframe tbody tr th:only-of-type {\n",
       "        vertical-align: middle;\n",
       "    }\n",
       "\n",
       "    .dataframe tbody tr th {\n",
       "        vertical-align: top;\n",
       "    }\n",
       "\n",
       "    .dataframe thead th {\n",
       "        text-align: right;\n",
       "    }\n",
       "</style>\n",
       "<table border=\"1\" class=\"dataframe\">\n",
       "  <thead>\n",
       "    <tr style=\"text-align: right;\">\n",
       "      <th></th>\n",
       "      <th>Mthly_HH_Income</th>\n",
       "      <th>Mthly_HH_Expense</th>\n",
       "      <th>No_of_Fly_Members</th>\n",
       "      <th>Emi_or_Rent_Amt</th>\n",
       "      <th>Annual_HH_Income</th>\n",
       "      <th>No_of_Earning_Members</th>\n",
       "    </tr>\n",
       "  </thead>\n",
       "  <tbody>\n",
       "    <tr>\n",
       "      <th>0</th>\n",
       "      <td>5000</td>\n",
       "      <td>2000</td>\n",
       "      <td>1</td>\n",
       "      <td>0</td>\n",
       "      <td>64200</td>\n",
       "      <td>1</td>\n",
       "    </tr>\n",
       "    <tr>\n",
       "      <th>1</th>\n",
       "      <td>6000</td>\n",
       "      <td>4500</td>\n",
       "      <td>2</td>\n",
       "      <td>0</td>\n",
       "      <td>79920</td>\n",
       "      <td>1</td>\n",
       "    </tr>\n",
       "    <tr>\n",
       "      <th>2</th>\n",
       "      <td>10000</td>\n",
       "      <td>5000</td>\n",
       "      <td>2</td>\n",
       "      <td>0</td>\n",
       "      <td>97200</td>\n",
       "      <td>1</td>\n",
       "    </tr>\n",
       "    <tr>\n",
       "      <th>3</th>\n",
       "      <td>10000</td>\n",
       "      <td>6600</td>\n",
       "      <td>2</td>\n",
       "      <td>0</td>\n",
       "      <td>112800</td>\n",
       "      <td>1</td>\n",
       "    </tr>\n",
       "    <tr>\n",
       "      <th>4</th>\n",
       "      <td>12500</td>\n",
       "      <td>7000</td>\n",
       "      <td>2</td>\n",
       "      <td>0</td>\n",
       "      <td>147000</td>\n",
       "      <td>1</td>\n",
       "    </tr>\n",
       "  </tbody>\n",
       "</table>\n",
       "</div>"
      ],
      "text/plain": [
       "   Mthly_HH_Income  Mthly_HH_Expense  No_of_Fly_Members  Emi_or_Rent_Amt  \\\n",
       "0             5000              2000                  1                0   \n",
       "1             6000              4500                  2                0   \n",
       "2            10000              5000                  2                0   \n",
       "3            10000              6600                  2                0   \n",
       "4            12500              7000                  2                0   \n",
       "\n",
       "   Annual_HH_Income  No_of_Earning_Members  \n",
       "0             64200                      1  \n",
       "1             79920                      1  \n",
       "2             97200                      1  \n",
       "3            112800                      1  \n",
       "4            147000                      1  "
      ]
     },
     "execution_count": 7,
     "metadata": {},
     "output_type": "execute_result"
    }
   ],
   "source": [
    "df = data.apply(lambda x: x.sort_values().values)\n",
    "n=df.count()\n",
    "n=int(n[0])\n",
    "df.head()"
   ]
  },
  {
   "cell_type": "code",
   "execution_count": 8,
   "metadata": {},
   "outputs": [
    {
     "name": "stdout",
     "output_type": "stream",
     "text": [
      "Mthly_HH_Income 35000.0\n",
      "Mthly_HH_Expense 15500.0\n",
      "No_of_Fly_Members 4.0\n",
      "Emi_or_Rent_Amt 0.0\n",
      "Annual_HH_Income 447420.0\n",
      "No_of_Earning_Members 1.0\n"
     ]
    }
   ],
   "source": [
    "#using formula\n",
    "l=list(df.columns)\n",
    "r=[]\n",
    "for i in range(6):\n",
    "    r.append(list(df.iloc[0:,i]))\n",
    "for i in range(6):  \n",
    "    if n % 2 == 0:\n",
    "        median1 = r[i][n//2]\n",
    "\n",
    "        median2 = r[i][n//2 - 1]\n",
    "        median = (median1 + median2)/2\n",
    "    else:\n",
    "        median =r[i][n//2]\n",
    "\n",
    "    print(str(l[i]),(median))"
   ]
  },
  {
   "cell_type": "markdown",
   "metadata": {},
   "source": [
    "# MODE"
   ]
  },
  {
   "cell_type": "markdown",
   "metadata": {},
   "source": [
    "Mode is the number which has the maximum frequency in the entire data set."
   ]
  },
  {
   "cell_type": "code",
   "execution_count": 9,
   "metadata": {},
   "outputs": [
    {
     "data": {
      "text/html": [
       "<div>\n",
       "<style scoped>\n",
       "    .dataframe tbody tr th:only-of-type {\n",
       "        vertical-align: middle;\n",
       "    }\n",
       "\n",
       "    .dataframe tbody tr th {\n",
       "        vertical-align: top;\n",
       "    }\n",
       "\n",
       "    .dataframe thead th {\n",
       "        text-align: right;\n",
       "    }\n",
       "</style>\n",
       "<table border=\"1\" class=\"dataframe\">\n",
       "  <thead>\n",
       "    <tr style=\"text-align: right;\">\n",
       "      <th></th>\n",
       "      <th>Mthly_HH_Income</th>\n",
       "      <th>Mthly_HH_Expense</th>\n",
       "      <th>No_of_Fly_Members</th>\n",
       "      <th>Emi_or_Rent_Amt</th>\n",
       "      <th>Annual_HH_Income</th>\n",
       "      <th>No_of_Earning_Members</th>\n",
       "    </tr>\n",
       "  </thead>\n",
       "  <tbody>\n",
       "    <tr>\n",
       "      <th>0</th>\n",
       "      <td>45000</td>\n",
       "      <td>25000</td>\n",
       "      <td>4</td>\n",
       "      <td>0</td>\n",
       "      <td>590400</td>\n",
       "      <td>1</td>\n",
       "    </tr>\n",
       "  </tbody>\n",
       "</table>\n",
       "</div>"
      ],
      "text/plain": [
       "   Mthly_HH_Income  Mthly_HH_Expense  No_of_Fly_Members  Emi_or_Rent_Amt  \\\n",
       "0            45000             25000                  4                0   \n",
       "\n",
       "   Annual_HH_Income  No_of_Earning_Members  \n",
       "0            590400                      1  "
      ]
     },
     "execution_count": 9,
     "metadata": {},
     "output_type": "execute_result"
    }
   ],
   "source": [
    "data.mode() #with inbuilt function"
   ]
  },
  {
   "cell_type": "code",
   "execution_count": 10,
   "metadata": {},
   "outputs": [
    {
     "name": "stdout",
     "output_type": "stream",
     "text": [
      "Mthly_HH_Income : 45000\n",
      "Mthly_HH_Expense : 25000\n",
      "No_of_Fly_Members : 4\n",
      "Emi_or_Rent_Amt : 0\n",
      "Annual_HH_Income : 590400\n",
      "No_of_Earning_Members : 1\n"
     ]
    }
   ],
   "source": [
    "#without inbuilt function\n",
    "for i in range(6):\n",
    "    m=max(r[i],key=r[i].count)\n",
    "    print(str(l[i]),':',m)"
   ]
  },
  {
   "cell_type": "markdown",
   "metadata": {},
   "source": [
    "# VARIANCE"
   ]
  },
  {
   "cell_type": "markdown",
   "metadata": {},
   "source": [
    "Variance is basically a statistical measurement of spread between numbers in a dataset. To be Specific the variance basically measure the distance of data points from the mean of that dataset. Variance is vastly used by investors in sharemarket to see how much risk an investment carries and wheather it will be profitable or not. \n",
    "\n",
    "Formula :\n",
    "$$ \\sigma^2 =\\frac {\\sum_{i=1}^{n} (x_i - \\bar{x})^2} {n} $$\n",
    " \n",
    "Where\n",
    "xi=ith data point\n",
    " \n",
    "x¯=Mean of all Data points\n",
    " \n",
    "n=no of data points\n",
    " \n"
   ]
  },
  {
   "cell_type": "code",
   "execution_count": 11,
   "metadata": {},
   "outputs": [
    {
     "name": "stdout",
     "output_type": "stream",
     "text": [
      "681100853.061224460601806640625\n",
      "146173342.857142865657806396484375\n",
      "2.30244897959183703051166958175599575042724609375\n",
      "38955510.204081632196903228759765625\n",
      "102486925397.9167327880859375\n",
      "0.53918367346938766981878643491654656827449798583984375\n"
     ]
    }
   ],
   "source": [
    "from decimal import Decimal\n",
    "q=data.var()\n",
    "for i in q:\n",
    "    print(Decimal(i))"
   ]
  },
  {
   "cell_type": "code",
   "execution_count": 12,
   "metadata": {},
   "outputs": [
    {
     "name": "stdout",
     "output_type": "stream",
     "text": [
      "[667478836.0, 143249876.0, 2.2563999999999984, 38176400.0, 100437186889.95831, 0.5284]\n"
     ]
    }
   ],
   "source": [
    "sum=0 #without inbuilt function\n",
    "v=[]\n",
    "mean1=list(data.sum()/data.count())\n",
    "for i in range(6):\n",
    "    for j in range(50):\n",
    "        sum=sum+(r[i][j]-mean1[i])**2\n",
    "    v.append(sum/n)\n",
    "    sum=0\n",
    "print(v)"
   ]
  },
  {
   "cell_type": "code",
   "execution_count": 13,
   "metadata": {},
   "outputs": [
    {
     "data": {
      "text/plain": [
       "Mthly_HH_Income          6.811009e+08\n",
       "Mthly_HH_Expense         1.461733e+08\n",
       "No_of_Fly_Members        2.302449e+00\n",
       "Emi_or_Rent_Amt          3.895551e+07\n",
       "Annual_HH_Income         1.024869e+11\n",
       "No_of_Earning_Members    5.391837e-01\n",
       "dtype: float64"
      ]
     },
     "execution_count": 13,
     "metadata": {},
     "output_type": "execute_result"
    }
   ],
   "source": [
    "data.var()"
   ]
  },
  {
   "cell_type": "markdown",
   "metadata": {},
   "source": [
    "# STANDARD DEVIATION"
   ]
  },
  {
   "cell_type": "markdown",
   "metadata": {},
   "source": [
    "Standard deviation is basically denotes the measurement of the data dispersion or variation.The Lower value of standard deviation denotes that the datapoints are closer to the mean not spread too much.A higher value of of standard deviation denotes that the data points are spread wide range.\n",
    "\n",
    "1.The mean value is calculated by adding all the data points and dividing by the number of data points.\n",
    "\n",
    "2.The variance for each data point is calculated by subtracting the mean from the value of the data point. Each of those resulting values is then squared and the results summed. The result is then divided by the number of data points less one.\n",
    "\n",
    "3.The square root of the variance—result from no. 2—is then used to find the standard deviation.\n",
    "\n",
    "$$\\sigma =\\sqrt{\\frac {\\sum_{i=1}^{n} (x_i - \\bar{x})^2} {n}}$$\n",
    "\n",
    "where: \n",
    "xi= Value of the ith point in the dataset\n",
    " \n",
    "x¯=The mean value of the dataset\n",
    " \n",
    "n= The number of datapoints in the dataset"
   ]
  },
  {
   "cell_type": "code",
   "execution_count": 14,
   "metadata": {},
   "outputs": [
    {
     "name": "stdout",
     "output_type": "stream",
     "text": [
      "[25835.611779092826, 11968.704023410388, 1.5021318184500314, 6178.705366013175, 316918.26531451027, 0.72691127381545]\n"
     ]
    }
   ],
   "source": [
    "#without using built-in function\n",
    "import math\n",
    "sum=0\n",
    "m=[]\n",
    "mean1=list(data.sum()/data.count())\n",
    "for i in range(6):\n",
    "    for j in range(50):\n",
    "        sum=sum+(r[i][j]-mean1[i])**2\n",
    "    m.append(math.sqrt(sum/n))\n",
    "    sum=0\n",
    "print(m)"
   ]
  },
  {
   "cell_type": "code",
   "execution_count": 15,
   "metadata": {},
   "outputs": [
    {
     "data": {
      "text/plain": [
       "Mthly_HH_Income           26097.908979\n",
       "Mthly_HH_Expense          12090.216824\n",
       "No_of_Fly_Members             1.517382\n",
       "Emi_or_Rent_Amt            6241.434948\n",
       "Annual_HH_Income         320135.792123\n",
       "No_of_Earning_Members         0.734291\n",
       "dtype: float64"
      ]
     },
     "execution_count": 15,
     "metadata": {},
     "output_type": "execute_result"
    }
   ],
   "source": [
    "data.std()"
   ]
  },
  {
   "cell_type": "markdown",
   "metadata": {},
   "source": [
    "# CORRELATION"
   ]
  },
  {
   "cell_type": "markdown",
   "metadata": {},
   "source": [
    "Correlation is a statistical measurement to measure the relation betwen two variables. The Correlation between two variables lies between -1 to +1. If our corealation value>1 or <1 then there must be some error in our calculations.The +1 known as perfect positive co-rrelation and -1 denotes the perfect negative correlation."
   ]
  },
  {
   "cell_type": "code",
   "execution_count": 16,
   "metadata": {},
   "outputs": [
    {
     "data": {
      "text/html": [
       "<div>\n",
       "<style scoped>\n",
       "    .dataframe tbody tr th:only-of-type {\n",
       "        vertical-align: middle;\n",
       "    }\n",
       "\n",
       "    .dataframe tbody tr th {\n",
       "        vertical-align: top;\n",
       "    }\n",
       "\n",
       "    .dataframe thead th {\n",
       "        text-align: right;\n",
       "    }\n",
       "</style>\n",
       "<table border=\"1\" class=\"dataframe\">\n",
       "  <thead>\n",
       "    <tr style=\"text-align: right;\">\n",
       "      <th></th>\n",
       "      <th>Mthly_HH_Income</th>\n",
       "      <th>Mthly_HH_Expense</th>\n",
       "      <th>No_of_Fly_Members</th>\n",
       "      <th>Emi_or_Rent_Amt</th>\n",
       "      <th>Annual_HH_Income</th>\n",
       "      <th>No_of_Earning_Members</th>\n",
       "    </tr>\n",
       "  </thead>\n",
       "  <tbody>\n",
       "    <tr>\n",
       "      <th>Mthly_HH_Income</th>\n",
       "      <td>1.000000</td>\n",
       "      <td>0.483825</td>\n",
       "      <td>0.365908</td>\n",
       "      <td>-0.025749</td>\n",
       "      <td>0.872913</td>\n",
       "      <td>0.280929</td>\n",
       "    </tr>\n",
       "    <tr>\n",
       "      <th>Mthly_HH_Expense</th>\n",
       "      <td>0.483825</td>\n",
       "      <td>1.000000</td>\n",
       "      <td>0.565001</td>\n",
       "      <td>0.333334</td>\n",
       "      <td>0.472894</td>\n",
       "      <td>0.302092</td>\n",
       "    </tr>\n",
       "    <tr>\n",
       "      <th>No_of_Fly_Members</th>\n",
       "      <td>0.365908</td>\n",
       "      <td>0.565001</td>\n",
       "      <td>1.000000</td>\n",
       "      <td>0.088261</td>\n",
       "      <td>0.347993</td>\n",
       "      <td>0.494580</td>\n",
       "    </tr>\n",
       "    <tr>\n",
       "      <th>Emi_or_Rent_Amt</th>\n",
       "      <td>-0.025749</td>\n",
       "      <td>0.333334</td>\n",
       "      <td>0.088261</td>\n",
       "      <td>1.000000</td>\n",
       "      <td>-0.018410</td>\n",
       "      <td>-0.115936</td>\n",
       "    </tr>\n",
       "    <tr>\n",
       "      <th>Annual_HH_Income</th>\n",
       "      <td>0.872913</td>\n",
       "      <td>0.472894</td>\n",
       "      <td>0.347993</td>\n",
       "      <td>-0.018410</td>\n",
       "      <td>1.000000</td>\n",
       "      <td>0.234381</td>\n",
       "    </tr>\n",
       "    <tr>\n",
       "      <th>No_of_Earning_Members</th>\n",
       "      <td>0.280929</td>\n",
       "      <td>0.302092</td>\n",
       "      <td>0.494580</td>\n",
       "      <td>-0.115936</td>\n",
       "      <td>0.234381</td>\n",
       "      <td>1.000000</td>\n",
       "    </tr>\n",
       "  </tbody>\n",
       "</table>\n",
       "</div>"
      ],
      "text/plain": [
       "                       Mthly_HH_Income  Mthly_HH_Expense  No_of_Fly_Members  \\\n",
       "Mthly_HH_Income               1.000000          0.483825           0.365908   \n",
       "Mthly_HH_Expense              0.483825          1.000000           0.565001   \n",
       "No_of_Fly_Members             0.365908          0.565001           1.000000   \n",
       "Emi_or_Rent_Amt              -0.025749          0.333334           0.088261   \n",
       "Annual_HH_Income              0.872913          0.472894           0.347993   \n",
       "No_of_Earning_Members         0.280929          0.302092           0.494580   \n",
       "\n",
       "                       Emi_or_Rent_Amt  Annual_HH_Income  \\\n",
       "Mthly_HH_Income              -0.025749          0.872913   \n",
       "Mthly_HH_Expense              0.333334          0.472894   \n",
       "No_of_Fly_Members             0.088261          0.347993   \n",
       "Emi_or_Rent_Amt               1.000000         -0.018410   \n",
       "Annual_HH_Income             -0.018410          1.000000   \n",
       "No_of_Earning_Members        -0.115936          0.234381   \n",
       "\n",
       "                       No_of_Earning_Members  \n",
       "Mthly_HH_Income                     0.280929  \n",
       "Mthly_HH_Expense                    0.302092  \n",
       "No_of_Fly_Members                   0.494580  \n",
       "Emi_or_Rent_Amt                    -0.115936  \n",
       "Annual_HH_Income                    0.234381  \n",
       "No_of_Earning_Members               1.000000  "
      ]
     },
     "execution_count": 16,
     "metadata": {},
     "output_type": "execute_result"
    }
   ],
   "source": [
    "data.corr(method ='kendall')"
   ]
  },
  {
   "cell_type": "code",
   "execution_count": 17,
   "metadata": {},
   "outputs": [
    {
     "name": "stdout",
     "output_type": "stream",
     "text": [
      "Pearson Correlation Coefficient : 0.984269278598793\n"
     ]
    }
   ],
   "source": [
    "# Without Library Function\n",
    "\n",
    "x = r[0]\n",
    "y = r[1]\n",
    "\n",
    "x_mean = np.sum(x) / len(x)\n",
    "y_mean = np.sum(y) / len(y)\n",
    "\n",
    "cov_xy = [(i - x_mean) * (j - y_mean) for i,j in zip(x, y)]\n",
    "cov_xy = np.sum(cov_xy) / len(cov_xy)\n",
    "\n",
    "x_std = (np.sum([(i - x_mean)**2 for i in x]) / len(x)) ** 0.5\n",
    "y_std = (np.sum([(i - y_mean)**2 for i in y])/len(y)) ** 0.5\n",
    "correlation = cov_xy / (x_std * y_std)\n",
    "\n",
    "print('Pearson Correlation Coefficient :', correlation)\n"
   ]
  },
  {
   "cell_type": "markdown",
   "metadata": {},
   "source": [
    "# Normal Distribution"
   ]
  },
  {
   "cell_type": "markdown",
   "metadata": {},
   "source": [
    "\n",
    "Normal distribution is also known as gaussian distribution.It is a probability distribution and also symmetric about the mean and showing the data near the mean are more frequent in occurrence than data far from the mean."
   ]
  },
  {
   "cell_type": "code",
   "execution_count": 19,
   "metadata": {},
   "outputs": [
    {
     "data": {
      "text/plain": [
       "<AxesSubplot:ylabel='Density'>"
      ]
     },
     "execution_count": 19,
     "metadata": {},
     "output_type": "execute_result"
    },
    {
     "data": {
      "image/png": "[encoded data removed]",
      "text/plain": [
       "<Figure size 432x288 with 1 Axes>"
      ]
     },
     "metadata": {
      "needs_background": "light"
     },
     "output_type": "display_data"
    }
   ],
   "source": [
    "## we are plotting the distribution plot for the first column : Mthly_HH_Income\n",
    "\n",
    "\n",
    "mean1=np.mean(r[3])\n",
    "sd=np.std(r[3])\n",
    "\n",
    "import warnings\n",
    "warnings.filterwarnings('ignore')\n",
    "# Plot between -10 and 10 with .001 steps.\n",
    "import numpy as np\n",
    "import matplotlib.pyplot as plt\n",
    "from scipy.stats import norm\n",
    "import seaborn as sns\n",
    "\n",
    "# Plot between -10 and 10 with .001 steps.\n",
    "x_axis = np.random.normal(mean1, sd,1000000)\n",
    "# Mean = 0, SD = 2.\n",
    "sns.distplot(x_axis)\n"
   ]
  },
  {
   "cell_type": "markdown",
   "metadata": {},
   "source": [
    "# Feature of Normal Distribution "
   ]
  },
  {
   "cell_type": "markdown",
   "metadata": {},
   "source": [
    "\n",
    "It is Symmetric : A normal Distribution should be symmetric that means that the distribution plot will divide the entire dataset into two equal halves.\n",
    "\n",
    "Mean,Median,Mode is Equal : The middle point of a normal distribution has the maximum frequency.That means this point posseses the most observations of the variable"
   ]
  },
  {
   "cell_type": "markdown",
   "metadata": {},
   "source": [
    "# SKEW OF DISTRIBUTION "
   ]
  },
  {
   "cell_type": "markdown",
   "metadata": {},
   "source": [
    "In a Distribution if one tail is longer than other tail then it is skew.Skewness also called as assymmetric distributions as they don't show any kind of symmetric properties but normal distribution show the symmetric property\n",
    "\n",
    "** Symmetric means one tail is the mirror image of other half"
   ]
  },
  {
   "cell_type": "markdown",
   "metadata": {},
   "source": [
    "A left long tail known as left-skewed distribution also known as negative dristibution.\n",
    "\n",
    "A right long tail distribution known as right skewed distribution also known as positive distribution\n",
    "\n",
    "1.If skewness is less than -1 or greater than 1, the distribution is highly skewed.\n",
    "\n",
    "2.If skewness is between -1 and -0.5 or between 0.5 and 1, the distribution is moderately skewed.\n",
    "\n",
    "3.If skewness is between -0.5 and 0.5, the distribution is approximately symmetric."
   ]
  },
  {
   "cell_type": "code",
   "execution_count": 20,
   "metadata": {},
   "outputs": [
    {
     "data": {
      "text/plain": [
       "Mthly_HH_Income          0.924615\n",
       "Mthly_HH_Expense         1.199461\n",
       "No_of_Fly_Members        0.113674\n",
       "Emi_or_Rent_Amt          3.403680\n",
       "Annual_HH_Income         1.192949\n",
       "No_of_Earning_Members    1.593301\n",
       "dtype: float64"
      ]
     },
     "execution_count": 20,
     "metadata": {},
     "output_type": "execute_result"
    }
   ],
   "source": [
    "##skewness for the first column\n",
    "data.skew()"
   ]
  },
  {
   "cell_type": "markdown",
   "metadata": {},
   "source": [
    "From the above we can see that the Emi_or_Rent_Amt column is highly skewed¶"
   ]
  },
  {
   "cell_type": "code",
   "execution_count": 21,
   "metadata": {},
   "outputs": [
    {
     "data": {
      "text/plain": [
       "<AxesSubplot:ylabel='Density'>"
      ]
     },
     "execution_count": 21,
     "metadata": {},
     "output_type": "execute_result"
    },
    {
     "data": {
      "image/png": "[encoded data removed]",
      "text/plain": [
       "<Figure size 432x288 with 1 Axes>"
      ]
     },
     "metadata": {
      "needs_background": "light"
     },
     "output_type": "display_data"
    }
   ],
   "source": [
    "#we are plotting the distribution plot for the first column : Mthly_HH_Income\n",
    "\n",
    "\n",
    "mean1=np.mean(r[5])\n",
    "sd=np.std(r[5])\n",
    "\n",
    "import warnings\n",
    "warnings.filterwarnings('ignore')\n",
    "# Plot between -10 and 10 with .001 steps.\n",
    "import numpy as np\n",
    "import matplotlib.pyplot as plt\n",
    "from scipy.stats import norm\n",
    "import seaborn as sns\n",
    "\n",
    "# Plot between -10 and 10 with .001 steps.\n",
    "x_axis = np.random.normal(mean1, sd,10)\n",
    "# Mean = 0, SD = 2.\n",
    "sns.distplot(x_axis)\n",
    "\n",
    "## It is right skewed"
   ]
  },
  {
   "cell_type": "code",
   "execution_count": 22,
   "metadata": {},
   "outputs": [
    {
     "data": {
      "image/png": "[encoded data removed]",
      "text/plain": [
       "<Figure size 432x288 with 1 Axes>"
      ]
     },
     "metadata": {},
     "output_type": "display_data"
    }
   ],
   "source": [
    "import seaborn as sns\n",
    "sns.set_theme(style=\"whitegrid\")\n",
    "fig, ax = plt.subplots()\n",
    "ax.boxplot(r[1])\n",
    "plt.show()"
   ]
  },
  {
   "cell_type": "markdown",
   "metadata": {},
   "source": [
    "# Effect on Mean, Median and Mode due to Skewness"
   ]
  },
  {
   "cell_type": "markdown",
   "metadata": {},
   "source": [
    "\n",
    "Among the three measures of central tendancy mean is highly effected by the skewness.For distributions that has outliers we often choose median as a prefer tendency because median is more resistance than mean, that means that if the add anyt outliers in it then there will be a huge change in mean than median. If we see that the distribution is skewed to the left that means that the mean is less than median,which is often less than the mode. if the distribution is skewed to the right that means the mode is less than the median which is often less than the mean."
   ]
  },
  {
   "cell_type": "markdown",
   "metadata": {},
   "source": [
    "## Explain QQ Plot and show the implementation of the sameExplain QQ Plot and show the implementation of the same\n"
   ]
  },
  {
   "cell_type": "markdown",
   "metadata": {},
   "source": [
    "Q-Q plots also known as Quantile-Quantile plot is plots of two quantiles against each other.The main objective of this plot is to check wheather two sets of data come from the same distribution. We can simply tell the type of distribution by looking at the graph of Q-Q plot"
   ]
  },
  {
   "cell_type": "code",
   "execution_count": 23,
   "metadata": {},
   "outputs": [
    {
     "data": {
      "image/png": "[encoded data removed]",
      "text/plain": [
       "<Figure size 432x288 with 1 Axes>"
      ]
     },
     "metadata": {},
     "output_type": "display_data"
    }
   ],
   "source": [
    "from scipy import stats\n",
    "\n",
    "stats.probplot(data['Mthly_HH_Income'], dist=\"norm\", plot=plt)\n",
    "\n",
    "plt.grid()"
   ]
  },
  {
   "cell_type": "markdown",
   "metadata": {},
   "source": [
    "# Explain Box Cox and show the implementation of the same\n"
   ]
  },
  {
   "cell_type": "markdown",
   "metadata": {},
   "source": [
    "A box-cox plot is basically used to convert the non-normally distributed dataset into the normally distributed dataset"
   ]
  },
  {
   "cell_type": "code",
   "execution_count": 24,
   "metadata": {},
   "outputs": [
    {
     "data": {
      "text/plain": [
       "<AxesSubplot:ylabel='Density'>"
      ]
     },
     "execution_count": 24,
     "metadata": {},
     "output_type": "execute_result"
    },
    {
     "data": {
      "image/png": "[encoded data removed]",
      "text/plain": [
       "<Figure size 432x288 with 1 Axes>"
      ]
     },
     "metadata": {},
     "output_type": "display_data"
    }
   ],
   "source": [
    "import numpy as np \n",
    "from scipy.stats import boxcox \n",
    "import seaborn as sns \n",
    "\n",
    "#set seed to 0\n",
    "np.random.seed(0)\n",
    "\n",
    "#generate dataset\n",
    "data = np.random.exponential(size=1000)\n",
    "\n",
    "#plot the distribution of data values\n",
    "sns.distplot(data, hist=False, kde=True) "
   ]
  },
  {
   "cell_type": "markdown",
   "metadata": {},
   "source": [
    "We can see that the data is non-normally distributed. so we need to use the box-cox plot in-order to make it nomally distributed dataset"
   ]
  },
  {
   "cell_type": "code",
   "execution_count": 25,
   "metadata": {},
   "outputs": [
    {
     "data": {
      "text/plain": [
       "<AxesSubplot:ylabel='Density'>"
      ]
     },
     "execution_count": 25,
     "metadata": {},
     "output_type": "execute_result"
    },
    {
     "data": {
      "image/png": "[encoded data removed]",
      "text/plain": [
       "<Figure size 432x288 with 1 Axes>"
      ]
     },
     "metadata": {},
     "output_type": "display_data"
    }
   ],
   "source": [
    "#perform Box-Cox \n",
    "transformed_data, best_lambda = boxcox(data) \n",
    "\n",
    "#plot the distribution of the transformed data \n",
    "sns.distplot(transformed_data, hist=False, kde=True) "
   ]
  }
 ],
 "metadata": {
  "kernelspec": {
   "display_name": "Python 3.10.5 64-bit",
   "language": "python",
   "name": "python3"
  },
  "language_info": {
   "codemirror_mode": {
    "name": "ipython",
    "version": 3
   },
   "file_extension": ".py",
   "mimetype": "text/x-python",
   "name": "python",
   "nbconvert_exporter": "python",
   "pygments_lexer": "ipython3",
   "version": "3.10.5"
  },
  "orig_nbformat": 4,
  "vscode": {
   "interpreter": {
    "hash": "8f2dee65efc3c5231a0ab35e3a021a6f51778acc0c0ad54851377c290069dda0"
   }
  }
 },
 "nbformat": 4,
 "nbformat_minor": 2
}
